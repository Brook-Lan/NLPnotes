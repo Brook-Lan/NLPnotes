{
 "cells": [
  {
   "cell_type": "code",
   "execution_count": 1,
   "metadata": {},
   "outputs": [],
   "source": [
    "from gensim import corpora, models, similarities"
   ]
  },
  {
   "cell_type": "code",
   "execution_count": 2,
   "metadata": {},
   "outputs": [],
   "source": [
    "documents = [\n",
    "    \"会议认为，\",\"党的十八大以来\",\"在以习近平同志为核心的党中央坚强领导下\",\"脱贫攻坚取得了决定性进展。\",\n",
    "    \"中国特色脱贫攻坚制度体系全面建立\",\"精准扶贫精准脱贫方略扎实推进\",\"各方联动社会参与的大扶贫格局基本形成\",\"创造了我国减贫史上最好成绩。\",\n",
    "    \"2017年\",\"党中央关于脱贫攻坚的决策部署得到全面贯彻落实\",\"各地区各部门责任进一步强化，\",\n",
    "    \"五级书记抓脱贫攻坚的思想自觉和行动自觉基本形成。\",\n",
    "    \"精准扶贫精准脱贫政策措施落地见效\",\n",
    "    \"东西部扶贫协作全面提速\",\"中央单位定点扶贫稳步推进\",\"工作作风明显转变\",\"脱贫攻坚迈上新的台阶。\",\n",
    "    \"会议指出\",\"我们党的初心和使命\",\"就是为中国人民谋幸福\",\"为中华民族谋复兴。\",\n",
    "    \"打好精准脱贫攻坚战、实现贫困群众对美好生活的向往\",\"体现了我们党的初心和使命。\",\n",
    "    \"未来三年，历史性地解决中华民族千百年来的绝对贫困问题\",\"让现行标准下的贫困人口同全国人民一道迈入小康社会\",\"是我们必须完成的重大任务。\",\n",
    "    \"当前，脱贫攻坚面临的任务和挑战还十分艰巨\",\"存在的突出问题仍然不少。\",\n",
    "    \"一些地方贫困程度深、基础条件薄弱、公共服务不足\",\"特殊困难群体脱贫难度大。\",\n",
    "    \"一些地方精准基础不扎实\",\"政策措施不落实不到位不精准\",\"资金使用管理不规范\",\"形式主义、官僚主义、弄虚作假现象时有发生。\",\n",
    "    \"打好脱贫攻坚战仍需付出艰辛努力。\",\n",
    "]"
   ]
  },
  {
   "cell_type": "code",
   "execution_count": 3,
   "metadata": {},
   "outputs": [],
   "source": [
    "import jieba"
   ]
  },
  {
   "cell_type": "code",
   "execution_count": 4,
   "metadata": {},
   "outputs": [
    {
     "name": "stderr",
     "output_type": "stream",
     "text": [
      "Building prefix dict from the default dictionary ...\n",
      "Loading model from cache /tmp/jieba.cache\n",
      "Loading model cost 1.170 seconds.\n",
      "Prefix dict has been built succesfully.\n"
     ]
    }
   ],
   "source": [
    "texts = [[word for word in jieba.cut(document) if len(word) > 1] for document in documents]"
   ]
  },
  {
   "cell_type": "code",
   "execution_count": 5,
   "metadata": {},
   "outputs": [],
   "source": [
    "from collections import defaultdict\n",
    "freq = defaultdict(int)"
   ]
  },
  {
   "cell_type": "code",
   "execution_count": 6,
   "metadata": {},
   "outputs": [],
   "source": [
    "for text in texts:\n",
    "    for token in text:\n",
    "        freq[token] += 1"
   ]
  },
  {
   "cell_type": "code",
   "execution_count": 7,
   "metadata": {},
   "outputs": [],
   "source": [
    "dictionary = corpora.Dictionary(texts)"
   ]
  },
  {
   "cell_type": "code",
   "execution_count": 8,
   "metadata": {},
   "outputs": [],
   "source": [
    "corpus = [dictionary.doc2bow(text) for text in texts]"
   ]
  },
  {
   "cell_type": "code",
   "execution_count": 9,
   "metadata": {},
   "outputs": [],
   "source": [
    "lsi = models.LsiModel(corpus, id2word=dictionary, num_topics=4)"
   ]
  },
  {
   "cell_type": "code",
   "execution_count": 10,
   "metadata": {},
   "outputs": [],
   "source": [
    "doc = \"实行最严格的考核评估制度是打赢脱贫攻坚战的重要保障\"\n",
    "vec_bow = dictionary.doc2bow([w for w in jieba.cut(doc) if len(w) > 1])"
   ]
  },
  {
   "cell_type": "code",
   "execution_count": 11,
   "metadata": {},
   "outputs": [],
   "source": [
    "vec_lsi = lsi[vec_bow]"
   ]
  },
  {
   "cell_type": "code",
   "execution_count": 12,
   "metadata": {},
   "outputs": [],
   "source": [
    "index = similarities.MatrixSimilarity(lsi[corpus])"
   ]
  },
  {
   "cell_type": "code",
   "execution_count": 13,
   "metadata": {},
   "outputs": [],
   "source": [
    "sims = index[vec_lsi]"
   ]
  },
  {
   "cell_type": "code",
   "execution_count": 14,
   "metadata": {},
   "outputs": [],
   "source": [
    "sims = sorted(enumerate(sims), key=lambda item: -item[1])"
   ]
  },
  {
   "cell_type": "code",
   "execution_count": 15,
   "metadata": {},
   "outputs": [
    {
     "name": "stdout",
     "output_type": "stream",
     "text": [
      "34 : 0.9986614 ==> 打好脱贫攻坚战仍需付出艰辛努力。\n",
      "------\n",
      "29 : 0.9957242 ==> 特殊困难群体脱贫难度大。\n",
      "------\n",
      "16 : 0.9514886 ==> 脱贫攻坚迈上新的台阶。\n",
      "------\n",
      "3 : 0.9499227 ==> 脱贫攻坚取得了决定性进展。\n",
      "------\n",
      "26 : 0.9449302 ==> 当前，脱贫攻坚面临的任务和挑战还十分艰巨\n",
      "------\n",
      "4 : 0.93483466 ==> 中国特色脱贫攻坚制度体系全面建立\n",
      "------\n",
      "9 : 0.92449856 ==> 党中央关于脱贫攻坚的决策部署得到全面贯彻落实\n",
      "------\n",
      "25 : 0.7996304 ==> 是我们必须完成的重大任务。\n",
      "------\n",
      "19 : 0.76740444 ==> 就是为中国人民谋幸福\n",
      "------\n",
      "21 : 0.7525403 ==> 打好精准脱贫攻坚战、实现贫困群众对美好生活的向往\n",
      "------\n",
      "2 : 0.6981182 ==> 在以习近平同志为核心的党中央坚强领导下\n",
      "------\n",
      "18 : 0.5673837 ==> 我们党的初心和使命\n",
      "------\n",
      "22 : 0.56009996 ==> 体现了我们党的初心和使命。\n",
      "------\n",
      "24 : 0.51785475 ==> 让现行标准下的贫困人口同全国人民一道迈入小康社会\n",
      "------\n",
      "12 : 0.51503116 ==> 精准扶贫精准脱贫政策措施落地见效\n",
      "------\n",
      "5 : 0.50034785 ==> 精准扶贫精准脱贫方略扎实推进\n",
      "------\n",
      "13 : 0.49911848 ==> 东西部扶贫协作全面提速\n",
      "------\n",
      "11 : 0.38444293 ==> 五级书记抓脱贫攻坚的思想自觉和行动自觉基本形成。\n",
      "------\n",
      "31 : 0.3063341 ==> 政策措施不落实不到位不精准\n",
      "------\n",
      "30 : 0.2359558 ==> 一些地方精准基础不扎实\n",
      "------\n",
      "23 : 0.08644482 ==> 未来三年，历史性地解决中华民族千百年来的绝对贫困问题\n",
      "------\n",
      "28 : 0.061680086 ==> 一些地方贫困程度深、基础条件薄弱、公共服务不足\n",
      "------\n",
      "20 : 0.053866334 ==> 为中华民族谋复兴。\n",
      "------\n",
      "27 : 0.046813622 ==> 存在的突出问题仍然不少。\n",
      "------\n",
      "14 : 0.017395332 ==> 中央单位定点扶贫稳步推进\n",
      "------\n",
      "0 : 0.0 ==> 会议认为，\n",
      "------\n",
      "1 : 0.0 ==> 党的十八大以来\n",
      "------\n",
      "7 : 0.0 ==> 创造了我国减贫史上最好成绩。\n",
      "------\n",
      "8 : 0.0 ==> 2017年\n",
      "------\n",
      "10 : 0.0 ==> 各地区各部门责任进一步强化，\n",
      "------\n",
      "15 : 0.0 ==> 工作作风明显转变\n",
      "------\n",
      "17 : 0.0 ==> 会议指出\n",
      "------\n",
      "32 : 0.0 ==> 资金使用管理不规范\n",
      "------\n",
      "33 : 0.0 ==> 形式主义、官僚主义、弄虚作假现象时有发生。\n",
      "------\n",
      "6 : -0.12923744 ==> 各方联动社会参与的大扶贫格局基本形成\n",
      "------\n"
     ]
    }
   ],
   "source": [
    "for i, v in sims:\n",
    "    print(i,':', v, \"==>\", documents[i])\n",
    "    print(\"------\")"
   ]
  },
  {
   "cell_type": "code",
   "execution_count": null,
   "metadata": {},
   "outputs": [],
   "source": []
  },
  {
   "cell_type": "code",
   "execution_count": null,
   "metadata": {},
   "outputs": [],
   "source": []
  }
 ],
 "metadata": {
  "kernelspec": {
   "display_name": "Python 3",
   "language": "python",
   "name": "python3"
  },
  "language_info": {
   "codemirror_mode": {
    "name": "ipython",
    "version": 3
   },
   "file_extension": ".py",
   "mimetype": "text/x-python",
   "name": "python",
   "nbconvert_exporter": "python",
   "pygments_lexer": "ipython3",
   "version": "3.5.2"
  }
 },
 "nbformat": 4,
 "nbformat_minor": 2
}
